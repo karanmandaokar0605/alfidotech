{
 "cells": [
  {
   "cell_type": "code",
   "execution_count": 1,
   "id": "4939769c-e3e5-45e6-8c7c-437321b4945c",
   "metadata": {},
   "outputs": [],
   "source": [
    "import numpy as np \n",
    "import pandas as pd\n",
    "import matplotlib.pyplot as plt"
   ]
  },
  {
   "cell_type": "code",
   "execution_count": 3,
   "id": "789db5ac-10d8-47a0-9a38-56ceb3402ed5",
   "metadata": {},
   "outputs": [
    {
     "data": {
      "text/html": [
       "<div>\n",
       "<style scoped>\n",
       "    .dataframe tbody tr th:only-of-type {\n",
       "        vertical-align: middle;\n",
       "    }\n",
       "\n",
       "    .dataframe tbody tr th {\n",
       "        vertical-align: top;\n",
       "    }\n",
       "\n",
       "    .dataframe thead th {\n",
       "        text-align: right;\n",
       "    }\n",
       "</style>\n",
       "<table border=\"1\" class=\"dataframe\">\n",
       "  <thead>\n",
       "    <tr style=\"text-align: right;\">\n",
       "      <th></th>\n",
       "      <th>Id</th>\n",
       "      <th>SepalLengthCm</th>\n",
       "      <th>SepalWidthCm</th>\n",
       "      <th>PetalLengthCm</th>\n",
       "      <th>PetalWidthCm</th>\n",
       "      <th>Species</th>\n",
       "    </tr>\n",
       "  </thead>\n",
       "  <tbody>\n",
       "    <tr>\n",
       "      <th>0</th>\n",
       "      <td>1</td>\n",
       "      <td>5.1</td>\n",
       "      <td>3.5</td>\n",
       "      <td>1.4</td>\n",
       "      <td>0.2</td>\n",
       "      <td>Iris-setosa</td>\n",
       "    </tr>\n",
       "    <tr>\n",
       "      <th>1</th>\n",
       "      <td>2</td>\n",
       "      <td>4.9</td>\n",
       "      <td>3.0</td>\n",
       "      <td>1.4</td>\n",
       "      <td>0.2</td>\n",
       "      <td>Iris-setosa</td>\n",
       "    </tr>\n",
       "    <tr>\n",
       "      <th>2</th>\n",
       "      <td>3</td>\n",
       "      <td>4.7</td>\n",
       "      <td>3.2</td>\n",
       "      <td>1.3</td>\n",
       "      <td>0.2</td>\n",
       "      <td>Iris-setosa</td>\n",
       "    </tr>\n",
       "    <tr>\n",
       "      <th>3</th>\n",
       "      <td>4</td>\n",
       "      <td>4.6</td>\n",
       "      <td>3.1</td>\n",
       "      <td>1.5</td>\n",
       "      <td>0.2</td>\n",
       "      <td>Iris-setosa</td>\n",
       "    </tr>\n",
       "    <tr>\n",
       "      <th>4</th>\n",
       "      <td>5</td>\n",
       "      <td>5.0</td>\n",
       "      <td>3.6</td>\n",
       "      <td>1.4</td>\n",
       "      <td>0.2</td>\n",
       "      <td>Iris-setosa</td>\n",
       "    </tr>\n",
       "  </tbody>\n",
       "</table>\n",
       "</div>"
      ],
      "text/plain": [
       "   Id  SepalLengthCm  SepalWidthCm  PetalLengthCm  PetalWidthCm      Species\n",
       "0   1            5.1           3.5            1.4           0.2  Iris-setosa\n",
       "1   2            4.9           3.0            1.4           0.2  Iris-setosa\n",
       "2   3            4.7           3.2            1.3           0.2  Iris-setosa\n",
       "3   4            4.6           3.1            1.5           0.2  Iris-setosa\n",
       "4   5            5.0           3.6            1.4           0.2  Iris-setosa"
      ]
     },
     "execution_count": 3,
     "metadata": {},
     "output_type": "execute_result"
    }
   ],
   "source": [
    "data =pd.read_csv('Iris.csv')\n",
    "data.head()"
   ]
  },
  {
   "cell_type": "code",
   "execution_count": 4,
   "id": "415ec441-6079-4306-9619-4659c239e739",
   "metadata": {},
   "outputs": [
    {
     "data": {
      "text/plain": [
       "(150, 6)"
      ]
     },
     "execution_count": 4,
     "metadata": {},
     "output_type": "execute_result"
    }
   ],
   "source": [
    "data.shape"
   ]
  },
  {
   "cell_type": "code",
   "execution_count": 5,
   "id": "91929fec-9485-42b7-9f75-7ff765208f2e",
   "metadata": {},
   "outputs": [
    {
     "data": {
      "text/plain": [
       "Id               0\n",
       "SepalLengthCm    0\n",
       "SepalWidthCm     0\n",
       "PetalLengthCm    0\n",
       "PetalWidthCm     0\n",
       "Species          0\n",
       "dtype: int64"
      ]
     },
     "execution_count": 5,
     "metadata": {},
     "output_type": "execute_result"
    }
   ],
   "source": [
    "data.isnull().sum()"
   ]
  },
  {
   "cell_type": "code",
   "execution_count": 6,
   "id": "b723a630-60a8-4103-beab-d7237d275b59",
   "metadata": {},
   "outputs": [
    {
     "name": "stdout",
     "output_type": "stream",
     "text": [
      "<class 'pandas.core.frame.DataFrame'>\n",
      "RangeIndex: 150 entries, 0 to 149\n",
      "Data columns (total 6 columns):\n",
      " #   Column         Non-Null Count  Dtype  \n",
      "---  ------         --------------  -----  \n",
      " 0   Id             150 non-null    int64  \n",
      " 1   SepalLengthCm  150 non-null    float64\n",
      " 2   SepalWidthCm   150 non-null    float64\n",
      " 3   PetalLengthCm  150 non-null    float64\n",
      " 4   PetalWidthCm   150 non-null    float64\n",
      " 5   Species        150 non-null    object \n",
      "dtypes: float64(4), int64(1), object(1)\n",
      "memory usage: 7.2+ KB\n"
     ]
    }
   ],
   "source": [
    "data.info()"
   ]
  },
  {
   "cell_type": "code",
   "execution_count": 7,
   "id": "5be00584-425d-4932-8221-38ae56d6b990",
   "metadata": {},
   "outputs": [
    {
     "data": {
      "text/plain": [
       "Species\n",
       "Iris-setosa        0.333333\n",
       "Iris-versicolor    0.333333\n",
       "Iris-virginica     0.333333\n",
       "Name: proportion, dtype: float64"
      ]
     },
     "execution_count": 7,
     "metadata": {},
     "output_type": "execute_result"
    }
   ],
   "source": [
    "data['Species'].value_counts(normalize=True)"
   ]
  },
  {
   "cell_type": "code",
   "execution_count": 8,
   "id": "2926b32f-5d51-4673-904a-3bc3f7c41f3c",
   "metadata": {},
   "outputs": [
    {
     "data": {
      "text/plain": [
       "(array([1, 2, 3, 4, 5]),\n",
       " [Text(1, 0, 'Id'),\n",
       "  Text(2, 0, 'SepalLengthCm'),\n",
       "  Text(3, 0, 'SepalWidthCm'),\n",
       "  Text(4, 0, 'PetalLengthCm'),\n",
       "  Text(5, 0, 'PetalWidthCm')])"
      ]
     },
     "execution_count": 8,
     "metadata": {},
     "output_type": "execute_result"
    },
    {
     "data": {
      "image/png": "[encoded data removed]",
      "text/plain": [
       "<Figure size 640x480 with 1 Axes>"
      ]
     },
     "metadata": {},
     "output_type": "display_data"
    }
   ],
   "source": [
    "data.plot(kind='box')\n",
    "plt.xticks(rotation=30)"
   ]
  },
  {
   "cell_type": "code",
   "execution_count": 9,
   "id": "a27ca456-3c0e-4015-bea3-c8130eac52b2",
   "metadata": {},
   "outputs": [
    {
     "data": {
      "text/plain": [
       "{0: 'Iris-setosa', 1: 'Iris-versicolor', 2: 'Iris-virginica'}"
      ]
     },
     "execution_count": 9,
     "metadata": {},
     "output_type": "execute_result"
    }
   ],
   "source": [
    "from sklearn.preprocessing import LabelEncoder\n",
    "\n",
    "encoder = LabelEncoder()\n",
    "encoder.fit(data['Species'])\n",
    "species_dict = dict(enumerate(encoder.classes_))\n",
    "species_dict"
   ]
  },
  {
   "cell_type": "code",
   "execution_count": 10,
   "id": "753655bc-0aa8-41c4-827e-b9ef8d315771",
   "metadata": {},
   "outputs": [
    {
     "data": {
      "text/plain": [
       "array([0, 0, 0, 0, 0])"
      ]
     },
     "execution_count": 10,
     "metadata": {},
     "output_type": "execute_result"
    }
   ],
   "source": [
    "encoded_species = encoder.fit_transform(data['Species'])\n",
    "encoded_species[:5]"
   ]
  },
  {
   "cell_type": "code",
   "execution_count": 11,
   "id": "8a55f195-a0bc-4523-ab1f-ac01639dbe05",
   "metadata": {},
   "outputs": [
    {
     "data": {
      "text/html": [
       "<div>\n",
       "<style scoped>\n",
       "    .dataframe tbody tr th:only-of-type {\n",
       "        vertical-align: middle;\n",
       "    }\n",
       "\n",
       "    .dataframe tbody tr th {\n",
       "        vertical-align: top;\n",
       "    }\n",
       "\n",
       "    .dataframe thead th {\n",
       "        text-align: right;\n",
       "    }\n",
       "</style>\n",
       "<table border=\"1\" class=\"dataframe\">\n",
       "  <thead>\n",
       "    <tr style=\"text-align: right;\">\n",
       "      <th></th>\n",
       "      <th>SepalLengthCm</th>\n",
       "      <th>SepalWidthCm</th>\n",
       "      <th>PetalLengthCm</th>\n",
       "      <th>PetalWidthCm</th>\n",
       "      <th>Species</th>\n",
       "    </tr>\n",
       "  </thead>\n",
       "  <tbody>\n",
       "    <tr>\n",
       "      <th>0</th>\n",
       "      <td>5.1</td>\n",
       "      <td>3.5</td>\n",
       "      <td>1.4</td>\n",
       "      <td>0.2</td>\n",
       "      <td>0</td>\n",
       "    </tr>\n",
       "    <tr>\n",
       "      <th>1</th>\n",
       "      <td>4.9</td>\n",
       "      <td>3.0</td>\n",
       "      <td>1.4</td>\n",
       "      <td>0.2</td>\n",
       "      <td>0</td>\n",
       "    </tr>\n",
       "    <tr>\n",
       "      <th>2</th>\n",
       "      <td>4.7</td>\n",
       "      <td>3.2</td>\n",
       "      <td>1.3</td>\n",
       "      <td>0.2</td>\n",
       "      <td>0</td>\n",
       "    </tr>\n",
       "    <tr>\n",
       "      <th>3</th>\n",
       "      <td>4.6</td>\n",
       "      <td>3.1</td>\n",
       "      <td>1.5</td>\n",
       "      <td>0.2</td>\n",
       "      <td>0</td>\n",
       "    </tr>\n",
       "    <tr>\n",
       "      <th>4</th>\n",
       "      <td>5.0</td>\n",
       "      <td>3.6</td>\n",
       "      <td>1.4</td>\n",
       "      <td>0.2</td>\n",
       "      <td>0</td>\n",
       "    </tr>\n",
       "  </tbody>\n",
       "</table>\n",
       "</div>"
      ],
      "text/plain": [
       "   SepalLengthCm  SepalWidthCm  PetalLengthCm  PetalWidthCm  Species\n",
       "0            5.1           3.5            1.4           0.2        0\n",
       "1            4.9           3.0            1.4           0.2        0\n",
       "2            4.7           3.2            1.3           0.2        0\n",
       "3            4.6           3.1            1.5           0.2        0\n",
       "4            5.0           3.6            1.4           0.2        0"
      ]
     },
     "execution_count": 11,
     "metadata": {},
     "output_type": "execute_result"
    }
   ],
   "source": [
    "data1 = data.copy() \n",
    "data1['Species'] = encoded_species\n",
    "data1 = data1.drop(['Id'], axis=1)\n",
    "data1.head()"
   ]
  },
  {
   "cell_type": "code",
   "execution_count": 12,
   "id": "548b103f-fb7c-427f-96d1-8a3a4a1af9e3",
   "metadata": {},
   "outputs": [],
   "source": [
    "X = data1.drop(['Species'], axis=1)\n",
    "y = data1['Species']"
   ]
  },
  {
   "cell_type": "code",
   "execution_count": 13,
   "id": "07c03add-d6a0-420b-95a3-7accce75ac75",
   "metadata": {},
   "outputs": [],
   "source": [
    "from sklearn.model_selection import train_test_split\n",
    "\n",
    "X_train, X_test, y_train, y_test = train_test_split(X,y, test_size=0.2, random_state=36)"
   ]
  },
  {
   "cell_type": "code",
   "execution_count": 14,
   "id": "dc8d18ec-69bd-46c1-825d-f818fcc81ad3",
   "metadata": {},
   "outputs": [],
   "source": [
    "from sklearn.preprocessing import StandardScaler\n",
    "scaler = StandardScaler()\n",
    "X_train_scaled = scaler.fit_transform(X_train)\n",
    "X_test_scaled = scaler.fit_transform(X_test)"
   ]
  },
  {
   "cell_type": "code",
   "execution_count": 15,
   "id": "0e04fdb3-852c-4d4d-a7f3-0dd7de65de43",
   "metadata": {},
   "outputs": [
    {
     "data": {
      "text/html": [
       "<style>#sk-container-id-1 {color: black;}#sk-container-id-1 pre{padding: 0;}#sk-container-id-1 div.sk-toggleable {background-color: white;}#sk-container-id-1 label.sk-toggleable__label {cursor: pointer;display: block;width: 100%;margin-bottom: 0;padding: 0.3em;box-sizing: border-box;text-align: center;}#sk-container-id-1 label.sk-toggleable__label-arrow:before {content: \"▸\";float: left;margin-right: 0.25em;color: #696969;}#sk-container-id-1 label.sk-toggleable__label-arrow:hover:before {color: black;}#sk-container-id-1 div.sk-estimator:hover label.sk-toggleable__label-arrow:before {color: black;}#sk-container-id-1 div.sk-toggleable__content {max-height: 0;max-width: 0;overflow: hidden;text-align: left;background-color: #f0f8ff;}#sk-container-id-1 div.sk-toggleable__content pre {margin: 0.2em;color: black;border-radius: 0.25em;background-color: #f0f8ff;}#sk-container-id-1 input.sk-toggleable__control:checked~div.sk-toggleable__content {max-height: 200px;max-width: 100%;overflow: auto;}#sk-container-id-1 input.sk-toggleable__control:checked~label.sk-toggleable__label-arrow:before {content: \"▾\";}#sk-container-id-1 div.sk-estimator input.sk-toggleable__control:checked~label.sk-toggleable__label {background-color: #d4ebff;}#sk-container-id-1 div.sk-label input.sk-toggleable__control:checked~label.sk-toggleable__label {background-color: #d4ebff;}#sk-container-id-1 input.sk-hidden--visually {border: 0;clip: rect(1px 1px 1px 1px);clip: rect(1px, 1px, 1px, 1px);height: 1px;margin: -1px;overflow: hidden;padding: 0;position: absolute;width: 1px;}#sk-container-id-1 div.sk-estimator {font-family: monospace;background-color: #f0f8ff;border: 1px dotted black;border-radius: 0.25em;box-sizing: border-box;margin-bottom: 0.5em;}#sk-container-id-1 div.sk-estimator:hover {background-color: #d4ebff;}#sk-container-id-1 div.sk-parallel-item::after {content: \"\";width: 100%;border-bottom: 1px solid gray;flex-grow: 1;}#sk-container-id-1 div.sk-label:hover label.sk-toggleable__label {background-color: #d4ebff;}#sk-container-id-1 div.sk-serial::before {content: \"\";position: absolute;border-left: 1px solid gray;box-sizing: border-box;top: 0;bottom: 0;left: 50%;z-index: 0;}#sk-container-id-1 div.sk-serial {display: flex;flex-direction: column;align-items: center;background-color: white;padding-right: 0.2em;padding-left: 0.2em;position: relative;}#sk-container-id-1 div.sk-item {position: relative;z-index: 1;}#sk-container-id-1 div.sk-parallel {display: flex;align-items: stretch;justify-content: center;background-color: white;position: relative;}#sk-container-id-1 div.sk-item::before, #sk-container-id-1 div.sk-parallel-item::before {content: \"\";position: absolute;border-left: 1px solid gray;box-sizing: border-box;top: 0;bottom: 0;left: 50%;z-index: -1;}#sk-container-id-1 div.sk-parallel-item {display: flex;flex-direction: column;z-index: 1;position: relative;background-color: white;}#sk-container-id-1 div.sk-parallel-item:first-child::after {align-self: flex-end;width: 50%;}#sk-container-id-1 div.sk-parallel-item:last-child::after {align-self: flex-start;width: 50%;}#sk-container-id-1 div.sk-parallel-item:only-child::after {width: 0;}#sk-container-id-1 div.sk-dashed-wrapped {border: 1px dashed gray;margin: 0 0.4em 0.5em 0.4em;box-sizing: border-box;padding-bottom: 0.4em;background-color: white;}#sk-container-id-1 div.sk-label label {font-family: monospace;font-weight: bold;display: inline-block;line-height: 1.2em;}#sk-container-id-1 div.sk-label-container {text-align: center;}#sk-container-id-1 div.sk-container {/* jupyter's `normalize.less` sets `[hidden] { display: none; }` but bootstrap.min.css set `[hidden] { display: none !important; }` so we also need the `!important` here to be able to override the default hidden behavior on the sphinx rendered scikit-learn.org. See: https://github.com/scikit-learn/scikit-learn/issues/21755 */display: inline-block !important;position: relative;}#sk-container-id-1 div.sk-text-repr-fallback {display: none;}</style><div id=\"sk-container-id-1\" class=\"sk-top-container\"><div class=\"sk-text-repr-fallback\"><pre>PCA(random_state=36)</pre><b>In a Jupyter environment, please rerun this cell to show the HTML representation or trust the notebook. <br />On GitHub, the HTML representation is unable to render, please try loading this page with nbviewer.org.</b></div><div class=\"sk-container\" hidden><div class=\"sk-item\"><div class=\"sk-estimator sk-toggleable\"><input class=\"sk-toggleable__control sk-hidden--visually\" id=\"sk-estimator-id-1\" type=\"checkbox\" checked><label for=\"sk-estimator-id-1\" class=\"sk-toggleable__label sk-toggleable__label-arrow\">PCA</label><div class=\"sk-toggleable__content\"><pre>PCA(random_state=36)</pre></div></div></div></div></div>"
      ],
      "text/plain": [
       "PCA(random_state=36)"
      ]
     },
     "execution_count": 15,
     "metadata": {},
     "output_type": "execute_result"
    }
   ],
   "source": [
    "from sklearn.decomposition import PCA\n",
    "\n",
    "pca = PCA(random_state = 36)\n",
    "pca.fit(X_train)"
   ]
  },
  {
   "cell_type": "code",
   "execution_count": 16,
   "id": "fc061a4d-aee6-4c69-ac07-5a77f23d101f",
   "metadata": {},
   "outputs": [
    {
     "data": {
      "text/plain": [
       "array([[ 0.34804314, -0.08778153,  0.85979667,  0.36319424],\n",
       "       [ 0.60900859,  0.77698333, -0.15784554, -0.02214078],\n",
       "       [-0.64419925,  0.5383549 ,  0.0893563 ,  0.53590744],\n",
       "       [ 0.30492922, -0.31426948, -0.47733628,  0.76184181]])"
      ]
     },
     "execution_count": 16,
     "metadata": {},
     "output_type": "execute_result"
    }
   ],
   "source": [
    "pca.components_"
   ]
  },
  {
   "cell_type": "code",
   "execution_count": 17,
   "id": "9d5f910c-a034-407b-b536-c9992d6f54aa",
   "metadata": {},
   "outputs": [
    {
     "data": {
      "text/plain": [
       "array([0.92385361, 0.05214563, 0.01856019, 0.00544057])"
      ]
     },
     "execution_count": 17,
     "metadata": {},
     "output_type": "execute_result"
    }
   ],
   "source": [
    "pca.explained_variance_ratio_"
   ]
  },
  {
   "cell_type": "code",
   "execution_count": 18,
   "id": "36ead2a0-628b-4730-a03a-3b6e3dc35cdb",
   "metadata": {},
   "outputs": [
    {
     "data": {
      "image/png": "[encoded data removed]",
      "text/plain": [
       "<Figure size 1200x800 with 1 Axes>"
      ]
     },
     "metadata": {},
     "output_type": "display_data"
    }
   ],
   "source": [
    "var_cumu = np.cumsum(pca.explained_variance_ratio_)\n",
    "fig = plt.figure(figsize=[12,8])\n",
    "plt.vlines(x=2, ymax=1, ymin=0, colors=\"r\", linestyles=\"--\")\n",
    "plt.hlines(y=0.95, xmax=4, xmin=0, colors=\"b\", linestyles=\"--\")\n",
    "plt.plot(var_cumu)\n",
    "plt.ylabel(\"Cumulative variance explained\")\n",
    "plt.show()"
   ]
  },
  {
   "cell_type": "code",
   "execution_count": 19,
   "id": "94df5b6e-3e05-4807-a769-c036208542e1",
   "metadata": {},
   "outputs": [],
   "source": [
    "pca1 = PCA(n_components=2, random_state= 36)\n",
    "pca2 = PCA(n_components=1, random_state= 36)\n",
    "X_train_pca1 = pca1.fit_transform(X_train_scaled)\n",
    "X_test_pca1 = pca1.fit_transform(X_test_scaled)\n",
    "X_train_pca2 = pca2.fit_transform(X_train_scaled)\n",
    "X_test_pca2 = pca2.fit_transform(X_test_scaled)"
   ]
  },
  {
   "cell_type": "code",
   "execution_count": 20,
   "id": "9869bd00-533f-4355-89da-8e383479fb92",
   "metadata": {},
   "outputs": [],
   "source": [
    "from sklearn.metrics import confusion_matrix ,accuracy_score\n",
    "def evaluateModel(y_test, y_pred):\n",
    "    print(\"Confusion Matrix :- \\n {}\".format(confusion_matrix(y_test, y_pred)))\n",
    "    print(\"Accuracy : {}\".format(accuracy_score(y_test, y_pred)))\n",
    "    print(\"\\n\")"
   ]
  },
  {
   "cell_type": "code",
   "execution_count": 21,
   "id": "ba2d0bad-ac59-487e-ab64-cb743b996c9a",
   "metadata": {},
   "outputs": [
    {
     "name": "stdout",
     "output_type": "stream",
     "text": [
      "Train Score (PCA 2 comp, Logistic Regression): \n",
      "Confusion Matrix :- \n",
      " [[42  0  0]\n",
      " [ 0 34  5]\n",
      " [ 0  4 35]]\n",
      "Accuracy : 0.925\n",
      "\n",
      "\n",
      "Test Score (PCA 2 comp, Logistic Regression): \n",
      "Confusion Matrix :- \n",
      " [[ 8  0  0]\n",
      " [ 0 11  0]\n",
      " [ 0  1 10]]\n",
      "Accuracy : 0.9666666666666667\n",
      "\n",
      "\n"
     ]
    }
   ],
   "source": [
    "from sklearn.linear_model import LogisticRegression\n",
    "logreg = LogisticRegression()\n",
    "logreg.fit(X_train_pca1,y_train)\n",
    "\n",
    "y_train_pred = logreg.predict(X_train_pca1)\n",
    "print(\"Train Score (PCA 2 comp, Logistic Regression): \")\n",
    "evaluateModel(y_train,y_train_pred)\n",
    "\n",
    "y_test_pred = logreg.predict(X_test_pca1)\n",
    "print(\"Test Score (PCA 2 comp, Logistic Regression): \")\n",
    "evaluateModel(y_test,y_test_pred)"
   ]
  },
  {
   "cell_type": "code",
   "execution_count": 22,
   "id": "2ad0d981-d39c-4f6c-8de6-ec83c439b891",
   "metadata": {},
   "outputs": [
    {
     "name": "stdout",
     "output_type": "stream",
     "text": [
      "Train Score (PCA single comp, Logistic Regression): \n",
      "Confusion Matrix :- \n",
      " [[42  0  0]\n",
      " [ 0 33  6]\n",
      " [ 0  5 34]]\n",
      "Accuracy : 0.9083333333333333\n",
      "\n",
      "\n",
      "Test Score (PCA single comp, Logistic Regression): \n",
      "Confusion Matrix :- \n",
      " [[ 8  0  0]\n",
      " [ 0 11  0]\n",
      " [ 0  1 10]]\n",
      "Accuracy : 0.9666666666666667\n",
      "\n",
      "\n"
     ]
    }
   ],
   "source": [
    "logreg.fit(X_train_pca2,y_train)\n",
    "\n",
    "y_train_pred = logreg.predict(X_train_pca2)\n",
    "print(\"Train Score (PCA single comp, Logistic Regression): \")\n",
    "evaluateModel(y_train,y_train_pred)\n",
    "\n",
    "y_test_pred = logreg.predict(X_test_pca2)\n",
    "print(\"Test Score (PCA single comp, Logistic Regression): \")\n",
    "evaluateModel(y_test,y_test_pred)"
   ]
  },
  {
   "cell_type": "code",
   "execution_count": 23,
   "id": "fbe8b8ab-ef48-487d-87be-ba9df0983083",
   "metadata": {},
   "outputs": [
    {
     "name": "stdout",
     "output_type": "stream",
     "text": [
      "Train Score (PCA 2 comp, Decision Tree): \n",
      "Confusion Matrix :- \n",
      " [[42  0  0]\n",
      " [ 0 39  0]\n",
      " [ 0  0 39]]\n",
      "Accuracy : 1.0\n",
      "\n",
      "\n",
      "Test Score (PCA 2 comp, Decision Tree): \n",
      "Confusion Matrix :- \n",
      " [[ 8  0  0]\n",
      " [ 0 11  0]\n",
      " [ 0  3  8]]\n",
      "Accuracy : 0.9\n",
      "\n",
      "\n"
     ]
    }
   ],
   "source": [
    "from sklearn.tree import DecisionTreeClassifier\n",
    "dt = DecisionTreeClassifier()\n",
    "dt.fit(X_train_pca1, y_train)\n",
    "\n",
    "y_train_pred = dt.predict(X_train_pca1)\n",
    "print(\"Train Score (PCA 2 comp, Decision Tree): \")\n",
    "evaluateModel(y_train,y_train_pred)\n",
    "\n",
    "y_test_pred = dt.predict(X_test_pca1)\n",
    "print(\"Test Score (PCA 2 comp, Decision Tree): \")\n",
    "evaluateModel(y_test,y_test_pred)"
   ]
  },
  {
   "cell_type": "code",
   "execution_count": 24,
   "id": "12d51920-afc8-446f-9ba3-947fe3182233",
   "metadata": {},
   "outputs": [
    {
     "name": "stdout",
     "output_type": "stream",
     "text": [
      "Train Score (PCA single comp, Decision Tree): \n",
      "Confusion Matrix :- \n",
      " [[42  0  0]\n",
      " [ 0 39  0]\n",
      " [ 0  0 39]]\n",
      "Accuracy : 1.0\n",
      "\n",
      "\n",
      "Test Score (PCA single comp, Decision Tree): \n",
      "Confusion Matrix :- \n",
      " [[ 8  0  0]\n",
      " [ 0 10  1]\n",
      " [ 0  2  9]]\n",
      "Accuracy : 0.9\n",
      "\n",
      "\n"
     ]
    }
   ],
   "source": [
    "dt.fit(X_train_pca2, y_train)\n",
    "\n",
    "y_train_pred = dt.predict(X_train_pca2)\n",
    "print(\"Train Score (PCA single comp, Decision Tree): \")\n",
    "evaluateModel(y_train,y_train_pred)\n",
    "\n",
    "y_test_pred = dt.predict(X_test_pca2)\n",
    "print(\"Test Score (PCA single comp, Decision Tree): \")\n",
    "evaluateModel(y_test,y_test_pred)"
   ]
  },
  {
   "cell_type": "code",
   "execution_count": 25,
   "id": "712093ee-586b-411f-9d2e-4cc08a630eff",
   "metadata": {},
   "outputs": [
    {
     "name": "stdout",
     "output_type": "stream",
     "text": [
      "Train Score (PCA 2 comp, Random Forest): \n",
      "Confusion Matrix :- \n",
      " [[42  0  0]\n",
      " [ 0 39  0]\n",
      " [ 0  0 39]]\n",
      "Accuracy : 1.0\n",
      "\n",
      "\n",
      "Test Score (PCA 2 comp, Random Forest): \n",
      "Confusion Matrix :- \n",
      " [[ 8  0  0]\n",
      " [ 0 11  0]\n",
      " [ 0  3  8]]\n",
      "Accuracy : 0.9\n",
      "\n",
      "\n"
     ]
    }
   ],
   "source": [
    "from sklearn.ensemble import RandomForestClassifier\n",
    "rf = RandomForestClassifier()\n",
    "rf.fit(X_train_pca1, y_train)\n",
    "\n",
    "y_train_pred = rf.predict(X_train_pca1)\n",
    "print(\"Train Score (PCA 2 comp, Random Forest): \")\n",
    "evaluateModel(y_train,y_train_pred)\n",
    "\n",
    "y_test_pred = rf.predict(X_test_pca1)\n",
    "print(\"Test Score (PCA 2 comp, Random Forest): \")\n",
    "evaluateModel(y_test,y_test_pred)"
   ]
  },
  {
   "cell_type": "code",
   "execution_count": 26,
   "id": "0260f28d-0689-465e-816b-eaae3edb6cec",
   "metadata": {},
   "outputs": [
    {
     "name": "stdout",
     "output_type": "stream",
     "text": [
      "Train Score (PCA single comp, Random Forest): \n",
      "Confusion Matrix :- \n",
      " [[42  0  0]\n",
      " [ 0 39  0]\n",
      " [ 0  0 39]]\n",
      "Accuracy : 1.0\n",
      "\n",
      "\n",
      "Test Score (PCA single comp, Random Forest): \n",
      "Confusion Matrix :- \n",
      " [[ 8  0  0]\n",
      " [ 0 10  1]\n",
      " [ 0  2  9]]\n",
      "Accuracy : 0.9\n",
      "\n",
      "\n"
     ]
    }
   ],
   "source": [
    "rf.fit(X_train_pca2, y_train)\n",
    "\n",
    "y_train_pred = rf.predict(X_train_pca2)\n",
    "print(\"Train Score (PCA single comp, Random Forest): \")\n",
    "evaluateModel(y_train,y_train_pred)\n",
    "\n",
    "y_test_pred = rf.predict(X_test_pca2)\n",
    "print(\"Test Score (PCA single comp, Random Forest): \")\n",
    "evaluateModel(y_test,y_test_pred)"
   ]
  },
  {
   "cell_type": "code",
   "execution_count": null,
   "id": "462e2ff1-a9de-460c-a790-da1faa407bc2",
   "metadata": {},
   "outputs": [],
   "source": []
  }
 ],
 "metadata": {
  "kernelspec": {
   "display_name": "Python 3 (ipykernel)",
   "language": "python",
   "name": "python3"
  },
  "language_info": {
   "codemirror_mode": {
    "name": "ipython",
    "version": 3
   },
   "file_extension": ".py",
   "mimetype": "text/x-python",
   "name": "python",
   "nbconvert_exporter": "python",
   "pygments_lexer": "ipython3",
   "version": "3.10.6"
  }
 },
 "nbformat": 4,
 "nbformat_minor": 5
}
