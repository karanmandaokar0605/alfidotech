{
 "cells": [
  {
   "cell_type": "code",
   "execution_count": 1,
   "id": "b7109acb",
   "metadata": {
    "_cell_guid": "b1076dfc-b9ad-4769-8c92-a6c4dae69d19",
    "_uuid": "8f2839f25d086af736a60e9eeb907d3b93b6e0e5",
    "execution": {
     "iopub.execute_input": "2023-12-31T06:48:02.039215Z",
     "iopub.status.busy": "2023-12-31T06:48:02.038833Z",
     "iopub.status.idle": "2023-12-31T06:48:03.231995Z",
     "shell.execute_reply": "2023-12-31T06:48:03.231156Z"
    },
    "papermill": {
     "duration": 1.203705,
     "end_time": "2023-12-31T06:48:03.234194",
     "exception": false,
     "start_time": "2023-12-31T06:48:02.030489",
     "status": "completed"
    },
    "tags": []
   },
   "outputs": [],
   "source": [
    "import numpy as np\n",
    "import pandas as pd\n",
    "import matplotlib.pyplot as plt\n",
    "import seaborn as sns"
   ]
  },
  {
   "cell_type": "code",
   "execution_count": 2,
   "id": "4df58438",
   "metadata": {
    "execution": {
     "iopub.execute_input": "2023-12-31T06:48:03.248575Z",
     "iopub.status.busy": "2023-12-31T06:48:03.248255Z",
     "iopub.status.idle": "2023-12-31T06:48:03.290211Z",
     "shell.execute_reply": "2023-12-31T06:48:03.288906Z"
    },
    "papermill": {
     "duration": 0.050727,
     "end_time": "2023-12-31T06:48:03.291904",
     "exception": false,
     "start_time": "2023-12-31T06:48:03.241177",
     "status": "completed"
    },
    "tags": []
   },
   "outputs": [
    {
     "name": "stdout",
     "output_type": "stream",
     "text": [
      "<class 'pandas.core.frame.DataFrame'>\n",
      "RangeIndex: 891 entries, 1 to 891\n",
      "Data columns (total 12 columns):\n",
      " #   Column       Non-Null Count  Dtype  \n",
      "---  ------       --------------  -----  \n",
      " 0   PassengerId  891 non-null    int64  \n",
      " 1   Survived     891 non-null    int64  \n",
      " 2   Pclass       891 non-null    int64  \n",
      " 3   Name         891 non-null    object \n",
      " 4   Sex          891 non-null    object \n",
      " 5   Age          714 non-null    float64\n",
      " 6   SibSp        891 non-null    int64  \n",
      " 7   Parch        891 non-null    int64  \n",
      " 8   Ticket       891 non-null    object \n",
      " 9   Fare         891 non-null    float64\n",
      " 10  Cabin        204 non-null    object \n",
      " 11  Embarked     889 non-null    object \n",
      "dtypes: float64(2), int64(5), object(5)\n",
      "memory usage: 83.7+ KB\n",
      "Duplicated Records: 0\n"
     ]
    }
   ],
   "source": [
    "data = pd.read_csv('/kaggle/input/titanic/train.csv')\n",
    "data.index += 1\n",
    "data.info()\n",
    "print(f'Duplicated Records: {data.duplicated().sum()}')"
   ]
  },
  {
   "cell_type": "code",
   "execution_count": 3,
   "id": "f34c6c38",
   "metadata": {
    "execution": {
     "iopub.execute_input": "2023-12-31T06:48:03.306629Z",
     "iopub.status.busy": "2023-12-31T06:48:03.305752Z",
     "iopub.status.idle": "2023-12-31T06:48:03.382984Z",
     "shell.execute_reply": "2023-12-31T06:48:03.382025Z"
    },
    "papermill": {
     "duration": 0.086662,
     "end_time": "2023-12-31T06:48:03.385169",
     "exception": false,
     "start_time": "2023-12-31T06:48:03.298507",
     "status": "completed"
    },
    "tags": []
   },
   "outputs": [
    {
     "data": {
      "text/html": [
       "<div>\n",
       "<style scoped>\n",
       "    .dataframe tbody tr th:only-of-type {\n",
       "        vertical-align: middle;\n",
       "    }\n",
       "\n",
       "    .dataframe tbody tr th {\n",
       "        vertical-align: top;\n",
       "    }\n",
       "\n",
       "    .dataframe thead th {\n",
       "        text-align: right;\n",
       "    }\n",
       "</style>\n",
       "<table border=\"1\" class=\"dataframe\">\n",
       "  <thead>\n",
       "    <tr style=\"text-align: right;\">\n",
       "      <th></th>\n",
       "      <th>PassengerId</th>\n",
       "      <th>Survived</th>\n",
       "      <th>Pclass</th>\n",
       "      <th>Name</th>\n",
       "      <th>Sex</th>\n",
       "      <th>Age</th>\n",
       "      <th>SibSp</th>\n",
       "      <th>Parch</th>\n",
       "      <th>Ticket</th>\n",
       "      <th>Fare</th>\n",
       "      <th>Cabin</th>\n",
       "      <th>Embarked</th>\n",
       "    </tr>\n",
       "  </thead>\n",
       "  <tbody>\n",
       "    <tr>\n",
       "      <th>1</th>\n",
       "      <td>1</td>\n",
       "      <td>0</td>\n",
       "      <td>3</td>\n",
       "      <td>Braund, Mr. Owen Harris</td>\n",
       "      <td>male</td>\n",
       "      <td>22.0</td>\n",
       "      <td>1</td>\n",
       "      <td>0</td>\n",
       "      <td>A/5 21171</td>\n",
       "      <td>7.2500</td>\n",
       "      <td>NaN</td>\n",
       "      <td>S</td>\n",
       "    </tr>\n",
       "    <tr>\n",
       "      <th>2</th>\n",
       "      <td>2</td>\n",
       "      <td>1</td>\n",
       "      <td>1</td>\n",
       "      <td>Cumings, Mrs. John Bradley (Florence Briggs Th...</td>\n",
       "      <td>female</td>\n",
       "      <td>38.0</td>\n",
       "      <td>1</td>\n",
       "      <td>0</td>\n",
       "      <td>PC 17599</td>\n",
       "      <td>71.2833</td>\n",
       "      <td>C85</td>\n",
       "      <td>C</td>\n",
       "    </tr>\n",
       "    <tr>\n",
       "      <th>3</th>\n",
       "      <td>3</td>\n",
       "      <td>1</td>\n",
       "      <td>3</td>\n",
       "      <td>Heikkinen, Miss. Laina</td>\n",
       "      <td>female</td>\n",
       "      <td>26.0</td>\n",
       "      <td>0</td>\n",
       "      <td>0</td>\n",
       "      <td>STON/O2. 3101282</td>\n",
       "      <td>7.9250</td>\n",
       "      <td>NaN</td>\n",
       "      <td>S</td>\n",
       "    </tr>\n",
       "    <tr>\n",
       "      <th>4</th>\n",
       "      <td>4</td>\n",
       "      <td>1</td>\n",
       "      <td>1</td>\n",
       "      <td>Futrelle, Mrs. Jacques Heath (Lily May Peel)</td>\n",
       "      <td>female</td>\n",
       "      <td>35.0</td>\n",
       "      <td>1</td>\n",
       "      <td>0</td>\n",
       "      <td>113803</td>\n",
       "      <td>53.1000</td>\n",
       "      <td>C123</td>\n",
       "      <td>S</td>\n",
       "    </tr>\n",
       "    <tr>\n",
       "      <th>5</th>\n",
       "      <td>5</td>\n",
       "      <td>0</td>\n",
       "      <td>3</td>\n",
       "      <td>Allen, Mr. William Henry</td>\n",
       "      <td>male</td>\n",
       "      <td>35.0</td>\n",
       "      <td>0</td>\n",
       "      <td>0</td>\n",
       "      <td>373450</td>\n",
       "      <td>8.0500</td>\n",
       "      <td>NaN</td>\n",
       "      <td>S</td>\n",
       "    </tr>\n",
       "    <tr>\n",
       "      <th>6</th>\n",
       "      <td>6</td>\n",
       "      <td>0</td>\n",
       "      <td>3</td>\n",
       "      <td>Moran, Mr. James</td>\n",
       "      <td>male</td>\n",
       "      <td>NaN</td>\n",
       "      <td>0</td>\n",
       "      <td>0</td>\n",
       "      <td>330877</td>\n",
       "      <td>8.4583</td>\n",
       "      <td>NaN</td>\n",
       "      <td>Q</td>\n",
       "    </tr>\n",
       "    <tr>\n",
       "      <th>7</th>\n",
       "      <td>7</td>\n",
       "      <td>0</td>\n",
       "      <td>1</td>\n",
       "      <td>McCarthy, Mr. Timothy J</td>\n",
       "      <td>male</td>\n",
       "      <td>54.0</td>\n",
       "      <td>0</td>\n",
       "      <td>0</td>\n",
       "      <td>17463</td>\n",
       "      <td>51.8625</td>\n",
       "      <td>E46</td>\n",
       "      <td>S</td>\n",
       "    </tr>\n",
       "    <tr>\n",
       "      <th>8</th>\n",
       "      <td>8</td>\n",
       "      <td>0</td>\n",
       "      <td>3</td>\n",
       "      <td>Palsson, Master. Gosta Leonard</td>\n",
       "      <td>male</td>\n",
       "      <td>2.0</td>\n",
       "      <td>3</td>\n",
       "      <td>1</td>\n",
       "      <td>349909</td>\n",
       "      <td>21.0750</td>\n",
       "      <td>NaN</td>\n",
       "      <td>S</td>\n",
       "    </tr>\n",
       "    <tr>\n",
       "      <th>9</th>\n",
       "      <td>9</td>\n",
       "      <td>1</td>\n",
       "      <td>3</td>\n",
       "      <td>Johnson, Mrs. Oscar W (Elisabeth Vilhelmina Berg)</td>\n",
       "      <td>female</td>\n",
       "      <td>27.0</td>\n",
       "      <td>0</td>\n",
       "      <td>2</td>\n",
       "      <td>347742</td>\n",
       "      <td>11.1333</td>\n",
       "      <td>NaN</td>\n",
       "      <td>S</td>\n",
       "    </tr>\n",
       "    <tr>\n",
       "      <th>10</th>\n",
       "      <td>10</td>\n",
       "      <td>1</td>\n",
       "      <td>2</td>\n",
       "      <td>Nasser, Mrs. Nicholas (Adele Achem)</td>\n",
       "      <td>female</td>\n",
       "      <td>14.0</td>\n",
       "      <td>1</td>\n",
       "      <td>0</td>\n",
       "      <td>237736</td>\n",
       "      <td>30.0708</td>\n",
       "      <td>NaN</td>\n",
       "      <td>C</td>\n",
       "    </tr>\n",
       "  </tbody>\n",
       "</table>\n",
       "</div>"
      ],
      "text/plain": [
       "    PassengerId  Survived  Pclass  \\\n",
       "1             1         0       3   \n",
       "2             2         1       1   \n",
       "3             3         1       3   \n",
       "4             4         1       1   \n",
       "5             5         0       3   \n",
       "6             6         0       3   \n",
       "7             7         0       1   \n",
       "8             8         0       3   \n",
       "9             9         1       3   \n",
       "10           10         1       2   \n",
       "\n",
       "                                                 Name     Sex   Age  SibSp  \\\n",
       "1                             Braund, Mr. Owen Harris    male  22.0      1   \n",
       "2   Cumings, Mrs. John Bradley (Florence Briggs Th...  female  38.0      1   \n",
       "3                              Heikkinen, Miss. Laina  female  26.0      0   \n",
       "4        Futrelle, Mrs. Jacques Heath (Lily May Peel)  female  35.0      1   \n",
       "5                            Allen, Mr. William Henry    male  35.0      0   \n",
       "6                                    Moran, Mr. James    male   NaN      0   \n",
       "7                             McCarthy, Mr. Timothy J    male  54.0      0   \n",
       "8                      Palsson, Master. Gosta Leonard    male   2.0      3   \n",
       "9   Johnson, Mrs. Oscar W (Elisabeth Vilhelmina Berg)  female  27.0      0   \n",
       "10                Nasser, Mrs. Nicholas (Adele Achem)  female  14.0      1   \n",
       "\n",
       "    Parch            Ticket     Fare Cabin Embarked  \n",
       "1       0         A/5 21171   7.2500   NaN        S  \n",
       "2       0          PC 17599  71.2833   C85        C  \n",
       "3       0  STON/O2. 3101282   7.9250   NaN        S  \n",
       "4       0            113803  53.1000  C123        S  \n",
       "5       0            373450   8.0500   NaN        S  \n",
       "6       0            330877   8.4583   NaN        Q  \n",
       "7       0             17463  51.8625   E46        S  \n",
       "8       1            349909  21.0750   NaN        S  \n",
       "9       2            347742  11.1333   NaN        S  \n",
       "10      0            237736  30.0708   NaN        C  "
      ]
     },
     "execution_count": 3,
     "metadata": {},
     "output_type": "execute_result"
    }
   ],
   "source": [
    "data.head(10)"
   ]
  },
  {
   "cell_type": "code",
   "execution_count": 4,
   "id": "9b595cb2",
   "metadata": {
    "execution": {
     "iopub.execute_input": "2023-12-31T06:48:03.400788Z",
     "iopub.status.busy": "2023-12-31T06:48:03.399956Z",
     "iopub.status.idle": "2023-12-31T06:48:03.407612Z",
     "shell.execute_reply": "2023-12-31T06:48:03.406870Z"
    },
    "papermill": {
     "duration": 0.01707,
     "end_time": "2023-12-31T06:48:03.409435",
     "exception": false,
     "start_time": "2023-12-31T06:48:03.392365",
     "status": "completed"
    },
    "tags": []
   },
   "outputs": [],
   "source": [
    "data = data.drop(['PassengerId','Ticket','Name'], axis=1)"
   ]
  },
  {
   "cell_type": "code",
   "execution_count": 5,
   "id": "2849752c",
   "metadata": {
    "execution": {
     "iopub.execute_input": "2023-12-31T06:48:03.424520Z",
     "iopub.status.busy": "2023-12-31T06:48:03.424239Z",
     "iopub.status.idle": "2023-12-31T06:48:03.659954Z",
     "shell.execute_reply": "2023-12-31T06:48:03.659131Z"
    },
    "papermill": {
     "duration": 0.246309,
     "end_time": "2023-12-31T06:48:03.663003",
     "exception": false,
     "start_time": "2023-12-31T06:48:03.416694",
     "status": "completed"
    },
    "tags": []
   },
   "outputs": [
    {
     "data": {
      "image/png": "[encoded data removed]",
      "text/plain": [
       "<Figure size 800x400 with 1 Axes>"
      ]
     },
     "metadata": {},
     "output_type": "display_data"
    }
   ],
   "source": [
    "missing_values = data.isnull().sum()\n",
    "plt.figure(figsize=(8, 4))\n",
    "plt.bar(missing_values.index, missing_values.values)\n",
    "plt.xticks(rotation=45)\n",
    "plt.tight_layout()"
   ]
  },
  {
   "cell_type": "code",
   "execution_count": 6,
   "id": "4886c00a",
   "metadata": {
    "execution": {
     "iopub.execute_input": "2023-12-31T06:48:03.679275Z",
     "iopub.status.busy": "2023-12-31T06:48:03.679016Z",
     "iopub.status.idle": "2023-12-31T06:48:03.896425Z",
     "shell.execute_reply": "2023-12-31T06:48:03.895585Z"
    },
    "papermill": {
     "duration": 0.227708,
     "end_time": "2023-12-31T06:48:03.898539",
     "exception": false,
     "start_time": "2023-12-31T06:48:03.670831",
     "status": "completed"
    },
    "tags": []
   },
   "outputs": [
    {
     "data": {
      "image/png": "[encoded data removed]",
      "text/plain": [
       "<Figure size 800x400 with 1 Axes>"
      ]
     },
     "metadata": {},
     "output_type": "display_data"
    }
   ],
   "source": [
    "data = data.drop(['Cabin'], axis=1)\n",
    "data['Age'] = data['Age'].fillna(data['Age'].median())\n",
    "missing_values = data.isnull().sum()\n",
    "plt.figure(figsize=(8, 4))\n",
    "plt.bar(missing_values.index, missing_values.values)\n",
    "plt.xticks(rotation=45)\n",
    "plt.tight_layout()"
   ]
  },
  {
   "cell_type": "code",
   "execution_count": 7,
   "id": "989cdc05",
   "metadata": {
    "execution": {
     "iopub.execute_input": "2023-12-31T06:48:03.915094Z",
     "iopub.status.busy": "2023-12-31T06:48:03.914762Z",
     "iopub.status.idle": "2023-12-31T06:48:03.924139Z",
     "shell.execute_reply": "2023-12-31T06:48:03.923363Z"
    },
    "papermill": {
     "duration": 0.01914,
     "end_time": "2023-12-31T06:48:03.925870",
     "exception": false,
     "start_time": "2023-12-31T06:48:03.906730",
     "status": "completed"
    },
    "tags": []
   },
   "outputs": [],
   "source": [
    "for i in data.columns:\n",
    "  if data[i].dtypes!=object:\n",
    "    continue\n",
    "  counter=0\n",
    "  for j in data[i].unique():\n",
    "    data[i] = data[i].replace({j:counter})\n",
    "    counter+=1"
   ]
  },
  {
   "cell_type": "code",
   "execution_count": 8,
   "id": "0cc229e0",
   "metadata": {
    "execution": {
     "iopub.execute_input": "2023-12-31T06:48:03.942643Z",
     "iopub.status.busy": "2023-12-31T06:48:03.942368Z",
     "iopub.status.idle": "2023-12-31T06:48:03.951706Z",
     "shell.execute_reply": "2023-12-31T06:48:03.950729Z"
    },
    "papermill": {
     "duration": 0.019346,
     "end_time": "2023-12-31T06:48:03.953672",
     "exception": false,
     "start_time": "2023-12-31T06:48:03.934326",
     "status": "completed"
    },
    "tags": []
   },
   "outputs": [
    {
     "name": "stdout",
     "output_type": "stream",
     "text": [
      "<class 'pandas.core.frame.DataFrame'>\n",
      "RangeIndex: 891 entries, 1 to 891\n",
      "Data columns (total 8 columns):\n",
      " #   Column    Non-Null Count  Dtype  \n",
      "---  ------    --------------  -----  \n",
      " 0   Survived  891 non-null    int64  \n",
      " 1   Pclass    891 non-null    int64  \n",
      " 2   Sex       891 non-null    int64  \n",
      " 3   Age       891 non-null    float64\n",
      " 4   SibSp     891 non-null    int64  \n",
      " 5   Parch     891 non-null    int64  \n",
      " 6   Fare      891 non-null    float64\n",
      " 7   Embarked  891 non-null    float64\n",
      "dtypes: float64(3), int64(5)\n",
      "memory usage: 55.8 KB\n"
     ]
    }
   ],
   "source": [
    "data.info()"
   ]
  },
  {
   "cell_type": "code",
   "execution_count": 9,
   "id": "30693700",
   "metadata": {
    "execution": {
     "iopub.execute_input": "2023-12-31T06:48:03.970426Z",
     "iopub.status.busy": "2023-12-31T06:48:03.969479Z",
     "iopub.status.idle": "2023-12-31T06:48:03.977225Z",
     "shell.execute_reply": "2023-12-31T06:48:03.976340Z"
    },
    "papermill": {
     "duration": 0.017565,
     "end_time": "2023-12-31T06:48:03.978900",
     "exception": false,
     "start_time": "2023-12-31T06:48:03.961335",
     "status": "completed"
    },
    "tags": []
   },
   "outputs": [
    {
     "data": {
      "text/plain": [
       "Survived    0\n",
       "Pclass      0\n",
       "Sex         0\n",
       "Age         0\n",
       "SibSp       0\n",
       "Parch       0\n",
       "Fare        0\n",
       "Embarked    0\n",
       "dtype: int64"
      ]
     },
     "execution_count": 9,
     "metadata": {},
     "output_type": "execute_result"
    }
   ],
   "source": [
    "data['Embarked'] = data['Embarked'].fillna(data['Embarked'].median())\n",
    "missing_values = data.isnull().sum()\n",
    "missing_values"
   ]
  },
  {
   "cell_type": "code",
   "execution_count": 10,
   "id": "bc99fc68",
   "metadata": {
    "execution": {
     "iopub.execute_input": "2023-12-31T06:48:03.994585Z",
     "iopub.status.busy": "2023-12-31T06:48:03.994344Z",
     "iopub.status.idle": "2023-12-31T06:48:04.000488Z",
     "shell.execute_reply": "2023-12-31T06:48:03.999895Z"
    },
    "papermill": {
     "duration": 0.015666,
     "end_time": "2023-12-31T06:48:04.001955",
     "exception": false,
     "start_time": "2023-12-31T06:48:03.986289",
     "status": "completed"
    },
    "tags": []
   },
   "outputs": [
    {
     "data": {
      "text/plain": [
       "Survived\n",
       "0    549\n",
       "1    342\n",
       "Name: count, dtype: int64"
      ]
     },
     "execution_count": 10,
     "metadata": {},
     "output_type": "execute_result"
    }
   ],
   "source": [
    "data['Survived'].value_counts()"
   ]
  },
  {
   "cell_type": "code",
   "execution_count": 11,
   "id": "0d4e539e",
   "metadata": {
    "execution": {
     "iopub.execute_input": "2023-12-31T06:48:04.018504Z",
     "iopub.status.busy": "2023-12-31T06:48:04.018053Z",
     "iopub.status.idle": "2023-12-31T06:48:04.404642Z",
     "shell.execute_reply": "2023-12-31T06:48:04.403830Z"
    },
    "papermill": {
     "duration": 0.39674,
     "end_time": "2023-12-31T06:48:04.406324",
     "exception": false,
     "start_time": "2023-12-31T06:48:04.009584",
     "status": "completed"
    },
    "tags": []
   },
   "outputs": [
    {
     "data": {
      "image/png": "[encoded data removed]",
      "text/plain": [
       "<Figure size 1200x800 with 2 Axes>"
      ]
     },
     "metadata": {},
     "output_type": "display_data"
    }
   ],
   "source": [
    "correlation_matrix = data.corr()\n",
    "plt.figure(figsize=(12, 8))\n",
    "sns.heatmap(correlation_matrix, annot=True, cmap='coolwarm', fmt='.2f')\n",
    "plt.title('Correlation Matrix')\n",
    "plt.show() "
   ]
  },
  {
   "cell_type": "code",
   "execution_count": 12,
   "id": "e9f5b590",
   "metadata": {
    "execution": {
     "iopub.execute_input": "2023-12-31T06:48:04.424770Z",
     "iopub.status.busy": "2023-12-31T06:48:04.424476Z",
     "iopub.status.idle": "2023-12-31T06:48:04.961726Z",
     "shell.execute_reply": "2023-12-31T06:48:04.960864Z"
    },
    "papermill": {
     "duration": 0.548617,
     "end_time": "2023-12-31T06:48:04.963664",
     "exception": false,
     "start_time": "2023-12-31T06:48:04.415047",
     "status": "completed"
    },
    "tags": []
   },
   "outputs": [],
   "source": [
    "from sklearn.ensemble import RandomForestRegressor\n",
    "\n",
    "model = RandomForestRegressor()\n",
    "model.fit(data.drop(['Survived'], axis=1), data['Survived'])\n",
    "\n",
    "feature_importance = model.feature_importances_"
   ]
  },
  {
   "cell_type": "code",
   "execution_count": 13,
   "id": "e8f9a266",
   "metadata": {
    "execution": {
     "iopub.execute_input": "2023-12-31T06:48:04.981661Z",
     "iopub.status.busy": "2023-12-31T06:48:04.981390Z",
     "iopub.status.idle": "2023-12-31T06:48:04.985614Z",
     "shell.execute_reply": "2023-12-31T06:48:04.984755Z"
    },
    "papermill": {
     "duration": 0.014898,
     "end_time": "2023-12-31T06:48:04.987285",
     "exception": false,
     "start_time": "2023-12-31T06:48:04.972387",
     "status": "completed"
    },
    "tags": []
   },
   "outputs": [],
   "source": [
    "indices = feature_importance.argsort()\n",
    "features = [f'{data.columns[i]}' for i in indices]"
   ]
  },
  {
   "cell_type": "code",
   "execution_count": 14,
   "id": "9d561fab",
   "metadata": {
    "execution": {
     "iopub.execute_input": "2023-12-31T06:48:05.005278Z",
     "iopub.status.busy": "2023-12-31T06:48:05.004705Z",
     "iopub.status.idle": "2023-12-31T06:48:05.237296Z",
     "shell.execute_reply": "2023-12-31T06:48:05.236331Z"
    },
    "papermill": {
     "duration": 0.243671,
     "end_time": "2023-12-31T06:48:05.239015",
     "exception": false,
     "start_time": "2023-12-31T06:48:04.995344",
     "status": "completed"
    },
    "tags": []
   },
   "outputs": [
    {
     "data": {
      "image/png": "[encoded data removed]",
      "text/plain": [
       "<Figure size 1000x600 with 1 Axes>"
      ]
     },
     "metadata": {},
     "output_type": "display_data"
    }
   ],
   "source": [
    "plt.figure(figsize=(10, 6))\n",
    "plt.bar(range(len(feature_importance)), feature_importance, tick_label=features)\n",
    "plt.xlabel('Features')\n",
    "plt.ylabel('Importance')\n",
    "plt.title('Feature Importance - RandomForestRegressor')\n",
    "plt.xticks(rotation=45, ha='right')\n",
    "plt.tight_layout()\n",
    "plt.show()"
   ]
  },
  {
   "cell_type": "code",
   "execution_count": 15,
   "id": "12f12141",
   "metadata": {
    "execution": {
     "iopub.execute_input": "2023-12-31T06:48:05.257951Z",
     "iopub.status.busy": "2023-12-31T06:48:05.257584Z",
     "iopub.status.idle": "2023-12-31T06:48:05.262438Z",
     "shell.execute_reply": "2023-12-31T06:48:05.261529Z"
    },
    "papermill": {
     "duration": 0.016081,
     "end_time": "2023-12-31T06:48:05.264086",
     "exception": false,
     "start_time": "2023-12-31T06:48:05.248005",
     "status": "completed"
    },
    "tags": []
   },
   "outputs": [],
   "source": [
    "x = data.drop('Survived',axis=1)\n",
    "y = data['Survived']"
   ]
  },
  {
   "cell_type": "code",
   "execution_count": 16,
   "id": "2ff1bb3b",
   "metadata": {
    "execution": {
     "iopub.execute_input": "2023-12-31T06:48:05.282972Z",
     "iopub.status.busy": "2023-12-31T06:48:05.282661Z",
     "iopub.status.idle": "2023-12-31T06:48:05.289173Z",
     "shell.execute_reply": "2023-12-31T06:48:05.288382Z"
    },
    "papermill": {
     "duration": 0.017654,
     "end_time": "2023-12-31T06:48:05.290975",
     "exception": false,
     "start_time": "2023-12-31T06:48:05.273321",
     "status": "completed"
    },
    "tags": []
   },
   "outputs": [
    {
     "data": {
      "text/plain": [
       "Survived\n",
       "0    549\n",
       "1    342\n",
       "Name: count, dtype: int64"
      ]
     },
     "execution_count": 16,
     "metadata": {},
     "output_type": "execute_result"
    }
   ],
   "source": [
    "y.value_counts()"
   ]
  },
  {
   "cell_type": "code",
   "execution_count": 17,
   "id": "4c812329",
   "metadata": {
    "execution": {
     "iopub.execute_input": "2023-12-31T06:48:05.309985Z",
     "iopub.status.busy": "2023-12-31T06:48:05.309524Z",
     "iopub.status.idle": "2023-12-31T06:48:05.421448Z",
     "shell.execute_reply": "2023-12-31T06:48:05.420409Z"
    },
    "papermill": {
     "duration": 0.123803,
     "end_time": "2023-12-31T06:48:05.423761",
     "exception": false,
     "start_time": "2023-12-31T06:48:05.299958",
     "status": "completed"
    },
    "tags": []
   },
   "outputs": [],
   "source": [
    "import imblearn\n",
    "from imblearn.over_sampling import SMOTE\n",
    "\n",
    "smote = SMOTE(sampling_strategy='auto', random_state=np.random.randint(100), k_neighbors=5)\n",
    "x,y = smote.fit_resample(x,y)"
   ]
  },
  {
   "cell_type": "code",
   "execution_count": 18,
   "id": "709065d9",
   "metadata": {
    "execution": {
     "iopub.execute_input": "2023-12-31T06:48:05.442757Z",
     "iopub.status.busy": "2023-12-31T06:48:05.442319Z",
     "iopub.status.idle": "2023-12-31T06:48:05.449490Z",
     "shell.execute_reply": "2023-12-31T06:48:05.448562Z"
    },
    "papermill": {
     "duration": 0.018593,
     "end_time": "2023-12-31T06:48:05.451256",
     "exception": false,
     "start_time": "2023-12-31T06:48:05.432663",
     "status": "completed"
    },
    "tags": []
   },
   "outputs": [
    {
     "data": {
      "text/plain": [
       "Survived\n",
       "0    549\n",
       "1    549\n",
       "Name: count, dtype: int64"
      ]
     },
     "execution_count": 18,
     "metadata": {},
     "output_type": "execute_result"
    }
   ],
   "source": [
    "y.value_counts()"
   ]
  },
  {
   "cell_type": "code",
   "execution_count": 19,
   "id": "7bd3762c",
   "metadata": {
    "execution": {
     "iopub.execute_input": "2023-12-31T06:48:05.470786Z",
     "iopub.status.busy": "2023-12-31T06:48:05.469838Z",
     "iopub.status.idle": "2023-12-31T06:48:05.476127Z",
     "shell.execute_reply": "2023-12-31T06:48:05.475290Z"
    },
    "papermill": {
     "duration": 0.01751,
     "end_time": "2023-12-31T06:48:05.477696",
     "exception": false,
     "start_time": "2023-12-31T06:48:05.460186",
     "status": "completed"
    },
    "tags": []
   },
   "outputs": [],
   "source": [
    "from sklearn.model_selection import train_test_split\n",
    "\n",
    "x_train, x_test, y_train, y_test = train_test_split(x, y, test_size = 0.20, random_state = 42)"
   ]
  },
  {
   "cell_type": "code",
   "execution_count": 20,
   "id": "0c0a67af",
   "metadata": {
    "execution": {
     "iopub.execute_input": "2023-12-31T06:48:05.495942Z",
     "iopub.status.busy": "2023-12-31T06:48:05.495599Z",
     "iopub.status.idle": "2023-12-31T06:48:05.825295Z",
     "shell.execute_reply": "2023-12-31T06:48:05.824374Z"
    },
    "papermill": {
     "duration": 0.340961,
     "end_time": "2023-12-31T06:48:05.827188",
     "exception": false,
     "start_time": "2023-12-31T06:48:05.486227",
     "status": "completed"
    },
    "tags": []
   },
   "outputs": [
    {
     "data": {
      "text/html": [
       "<style>#sk-container-id-1 {color: black;background-color: white;}#sk-container-id-1 pre{padding: 0;}#sk-container-id-1 div.sk-toggleable {background-color: white;}#sk-container-id-1 label.sk-toggleable__label {cursor: pointer;display: block;width: 100%;margin-bottom: 0;padding: 0.3em;box-sizing: border-box;text-align: center;}#sk-container-id-1 label.sk-toggleable__label-arrow:before {content: \"▸\";float: left;margin-right: 0.25em;color: #696969;}#sk-container-id-1 label.sk-toggleable__label-arrow:hover:before {color: black;}#sk-container-id-1 div.sk-estimator:hover label.sk-toggleable__label-arrow:before {color: black;}#sk-container-id-1 div.sk-toggleable__content {max-height: 0;max-width: 0;overflow: hidden;text-align: left;background-color: #f0f8ff;}#sk-container-id-1 div.sk-toggleable__content pre {margin: 0.2em;color: black;border-radius: 0.25em;background-color: #f0f8ff;}#sk-container-id-1 input.sk-toggleable__control:checked~div.sk-toggleable__content {max-height: 200px;max-width: 100%;overflow: auto;}#sk-container-id-1 input.sk-toggleable__control:checked~label.sk-toggleable__label-arrow:before {content: \"▾\";}#sk-container-id-1 div.sk-estimator input.sk-toggleable__control:checked~label.sk-toggleable__label {background-color: #d4ebff;}#sk-container-id-1 div.sk-label input.sk-toggleable__control:checked~label.sk-toggleable__label {background-color: #d4ebff;}#sk-container-id-1 input.sk-hidden--visually {border: 0;clip: rect(1px 1px 1px 1px);clip: rect(1px, 1px, 1px, 1px);height: 1px;margin: -1px;overflow: hidden;padding: 0;position: absolute;width: 1px;}#sk-container-id-1 div.sk-estimator {font-family: monospace;background-color: #f0f8ff;border: 1px dotted black;border-radius: 0.25em;box-sizing: border-box;margin-bottom: 0.5em;}#sk-container-id-1 div.sk-estimator:hover {background-color: #d4ebff;}#sk-container-id-1 div.sk-parallel-item::after {content: \"\";width: 100%;border-bottom: 1px solid gray;flex-grow: 1;}#sk-container-id-1 div.sk-label:hover label.sk-toggleable__label {background-color: #d4ebff;}#sk-container-id-1 div.sk-serial::before {content: \"\";position: absolute;border-left: 1px solid gray;box-sizing: border-box;top: 0;bottom: 0;left: 50%;z-index: 0;}#sk-container-id-1 div.sk-serial {display: flex;flex-direction: column;align-items: center;background-color: white;padding-right: 0.2em;padding-left: 0.2em;position: relative;}#sk-container-id-1 div.sk-item {position: relative;z-index: 1;}#sk-container-id-1 div.sk-parallel {display: flex;align-items: stretch;justify-content: center;background-color: white;position: relative;}#sk-container-id-1 div.sk-item::before, #sk-container-id-1 div.sk-parallel-item::before {content: \"\";position: absolute;border-left: 1px solid gray;box-sizing: border-box;top: 0;bottom: 0;left: 50%;z-index: -1;}#sk-container-id-1 div.sk-parallel-item {display: flex;flex-direction: column;z-index: 1;position: relative;background-color: white;}#sk-container-id-1 div.sk-parallel-item:first-child::after {align-self: flex-end;width: 50%;}#sk-container-id-1 div.sk-parallel-item:last-child::after {align-self: flex-start;width: 50%;}#sk-container-id-1 div.sk-parallel-item:only-child::after {width: 0;}#sk-container-id-1 div.sk-dashed-wrapped {border: 1px dashed gray;margin: 0 0.4em 0.5em 0.4em;box-sizing: border-box;padding-bottom: 0.4em;background-color: white;}#sk-container-id-1 div.sk-label label {font-family: monospace;font-weight: bold;display: inline-block;line-height: 1.2em;}#sk-container-id-1 div.sk-label-container {text-align: center;}#sk-container-id-1 div.sk-container {/* jupyter's `normalize.less` sets `[hidden] { display: none; }` but bootstrap.min.css set `[hidden] { display: none !important; }` so we also need the `!important` here to be able to override the default hidden behavior on the sphinx rendered scikit-learn.org. See: https://github.com/scikit-learn/scikit-learn/issues/21755 */display: inline-block !important;position: relative;}#sk-container-id-1 div.sk-text-repr-fallback {display: none;}</style><div id=\"sk-container-id-1\" class=\"sk-top-container\"><div class=\"sk-text-repr-fallback\"><pre>VotingClassifier(estimators=[(&#x27;rf&#x27;,\n",
       "                              RandomForestClassifier(n_estimators=50,\n",
       "                                                     n_jobs=-1)),\n",
       "                             (&#x27;ada&#x27;, AdaBoostClassifier()),\n",
       "                             (&#x27;gbc&#x27;,\n",
       "                              GradientBoostingClassifier(learning_rate=1.0,\n",
       "                                                         max_depth=5,\n",
       "                                                         n_estimators=50,\n",
       "                                                         random_state=1))])</pre><b>In a Jupyter environment, please rerun this cell to show the HTML representation or trust the notebook. <br />On GitHub, the HTML representation is unable to render, please try loading this page with nbviewer.org.</b></div><div class=\"sk-container\" hidden><div class=\"sk-item sk-dashed-wrapped\"><div class=\"sk-label-container\"><div class=\"sk-label sk-toggleable\"><input class=\"sk-toggleable__control sk-hidden--visually\" id=\"sk-estimator-id-1\" type=\"checkbox\" ><label for=\"sk-estimator-id-1\" class=\"sk-toggleable__label sk-toggleable__label-arrow\">VotingClassifier</label><div class=\"sk-toggleable__content\"><pre>VotingClassifier(estimators=[(&#x27;rf&#x27;,\n",
       "                              RandomForestClassifier(n_estimators=50,\n",
       "                                                     n_jobs=-1)),\n",
       "                             (&#x27;ada&#x27;, AdaBoostClassifier()),\n",
       "                             (&#x27;gbc&#x27;,\n",
       "                              GradientBoostingClassifier(learning_rate=1.0,\n",
       "                                                         max_depth=5,\n",
       "                                                         n_estimators=50,\n",
       "                                                         random_state=1))])</pre></div></div></div><div class=\"sk-parallel\"><div class=\"sk-parallel-item\"><div class=\"sk-item\"><div class=\"sk-label-container\"><div class=\"sk-label sk-toggleable\"><label>rf</label></div></div><div class=\"sk-serial\"><div class=\"sk-item\"><div class=\"sk-estimator sk-toggleable\"><input class=\"sk-toggleable__control sk-hidden--visually\" id=\"sk-estimator-id-2\" type=\"checkbox\" ><label for=\"sk-estimator-id-2\" class=\"sk-toggleable__label sk-toggleable__label-arrow\">RandomForestClassifier</label><div class=\"sk-toggleable__content\"><pre>RandomForestClassifier(n_estimators=50, n_jobs=-1)</pre></div></div></div></div></div></div><div class=\"sk-parallel-item\"><div class=\"sk-item\"><div class=\"sk-label-container\"><div class=\"sk-label sk-toggleable\"><label>ada</label></div></div><div class=\"sk-serial\"><div class=\"sk-item\"><div class=\"sk-estimator sk-toggleable\"><input class=\"sk-toggleable__control sk-hidden--visually\" id=\"sk-estimator-id-3\" type=\"checkbox\" ><label for=\"sk-estimator-id-3\" class=\"sk-toggleable__label sk-toggleable__label-arrow\">AdaBoostClassifier</label><div class=\"sk-toggleable__content\"><pre>AdaBoostClassifier()</pre></div></div></div></div></div></div><div class=\"sk-parallel-item\"><div class=\"sk-item\"><div class=\"sk-label-container\"><div class=\"sk-label sk-toggleable\"><label>gbc</label></div></div><div class=\"sk-serial\"><div class=\"sk-item\"><div class=\"sk-estimator sk-toggleable\"><input class=\"sk-toggleable__control sk-hidden--visually\" id=\"sk-estimator-id-4\" type=\"checkbox\" ><label for=\"sk-estimator-id-4\" class=\"sk-toggleable__label sk-toggleable__label-arrow\">GradientBoostingClassifier</label><div class=\"sk-toggleable__content\"><pre>GradientBoostingClassifier(learning_rate=1.0, max_depth=5, n_estimators=50,\n",
       "                           random_state=1)</pre></div></div></div></div></div></div></div></div></div></div>"
      ],
      "text/plain": [
       "VotingClassifier(estimators=[('rf',\n",
       "                              RandomForestClassifier(n_estimators=50,\n",
       "                                                     n_jobs=-1)),\n",
       "                             ('ada', AdaBoostClassifier()),\n",
       "                             ('gbc',\n",
       "                              GradientBoostingClassifier(learning_rate=1.0,\n",
       "                                                         max_depth=5,\n",
       "                                                         n_estimators=50,\n",
       "                                                         random_state=1))])"
      ]
     },
     "execution_count": 20,
     "metadata": {},
     "output_type": "execute_result"
    }
   ],
   "source": [
    "from sklearn.linear_model import LogisticRegression\n",
    "from sklearn.ensemble import AdaBoostClassifier\n",
    "from sklearn.ensemble import RandomForestClassifier\n",
    "from sklearn.ensemble import VotingClassifier\n",
    "from sklearn.ensemble import GradientBoostingClassifier\n",
    "\n",
    "model1=RandomForestClassifier(n_estimators=50, n_jobs=-1)\n",
    "model2=AdaBoostClassifier(n_estimators=50)\n",
    "model3=GradientBoostingClassifier(n_estimators=50, learning_rate=1.0,max_depth=5, random_state=1)\n",
    "\n",
    "voting_model = VotingClassifier(estimators=[('rf', model1), ('ada', model2), ('gbc', model3)],voting='hard')\n",
    "voting_model.fit(x_train,y_train)"
   ]
  },
  {
   "cell_type": "code",
   "execution_count": 21,
   "id": "769da4d8",
   "metadata": {
    "execution": {
     "iopub.execute_input": "2023-12-31T06:48:05.846784Z",
     "iopub.status.busy": "2023-12-31T06:48:05.846083Z",
     "iopub.status.idle": "2023-12-31T06:48:05.895249Z",
     "shell.execute_reply": "2023-12-31T06:48:05.894241Z"
    },
    "papermill": {
     "duration": 0.060705,
     "end_time": "2023-12-31T06:48:05.897001",
     "exception": false,
     "start_time": "2023-12-31T06:48:05.836296",
     "status": "completed"
    },
    "tags": []
   },
   "outputs": [
    {
     "name": "stdout",
     "output_type": "stream",
     "text": [
      "Accuracy score: 0.873\n",
      "Precision score: 0.872\n",
      "Recall score: 0.872\n"
     ]
    }
   ],
   "source": [
    "from sklearn import metrics\n",
    "from sklearn.metrics import accuracy_score, precision_score, recall_score\n",
    "\n",
    "y_pred=voting_model.predict(x_test)\n",
    "print(\"Accuracy score: %.3f\"%accuracy_score(y_test,y_pred))\n",
    "print(\"Precision score: %.3f\"%precision_score(y_test,y_pred, average = 'macro'))\n",
    "print(\"Recall score: %.3f\"%recall_score(y_test,y_pred, average = 'macro'))"
   ]
  },
  {
   "cell_type": "code",
   "execution_count": 22,
   "id": "fca65aaa",
   "metadata": {
    "execution": {
     "iopub.execute_input": "2023-12-31T06:48:05.918407Z",
     "iopub.status.busy": "2023-12-31T06:48:05.917502Z",
     "iopub.status.idle": "2023-12-31T06:48:05.927749Z",
     "shell.execute_reply": "2023-12-31T06:48:05.926958Z"
    },
    "papermill": {
     "duration": 0.023245,
     "end_time": "2023-12-31T06:48:05.929495",
     "exception": false,
     "start_time": "2023-12-31T06:48:05.906250",
     "status": "completed"
    },
    "tags": []
   },
   "outputs": [],
   "source": [
    "test = pd.read_csv('/kaggle/input/titanic/test.csv')"
   ]
  },
  {
   "cell_type": "code",
   "execution_count": 23,
   "id": "73894ab3",
   "metadata": {
    "execution": {
     "iopub.execute_input": "2023-12-31T06:48:05.949435Z",
     "iopub.status.busy": "2023-12-31T06:48:05.949129Z",
     "iopub.status.idle": "2023-12-31T06:48:05.960013Z",
     "shell.execute_reply": "2023-12-31T06:48:05.959061Z"
    },
    "papermill": {
     "duration": 0.022792,
     "end_time": "2023-12-31T06:48:05.961627",
     "exception": false,
     "start_time": "2023-12-31T06:48:05.938835",
     "status": "completed"
    },
    "tags": []
   },
   "outputs": [
    {
     "name": "stdout",
     "output_type": "stream",
     "text": [
      "<class 'pandas.core.frame.DataFrame'>\n",
      "RangeIndex: 418 entries, 0 to 417\n",
      "Data columns (total 11 columns):\n",
      " #   Column       Non-Null Count  Dtype  \n",
      "---  ------       --------------  -----  \n",
      " 0   PassengerId  418 non-null    int64  \n",
      " 1   Pclass       418 non-null    int64  \n",
      " 2   Name         418 non-null    object \n",
      " 3   Sex          418 non-null    object \n",
      " 4   Age          332 non-null    float64\n",
      " 5   SibSp        418 non-null    int64  \n",
      " 6   Parch        418 non-null    int64  \n",
      " 7   Ticket       418 non-null    object \n",
      " 8   Fare         417 non-null    float64\n",
      " 9   Cabin        91 non-null     object \n",
      " 10  Embarked     418 non-null    object \n",
      "dtypes: float64(2), int64(4), object(5)\n",
      "memory usage: 36.0+ KB\n"
     ]
    }
   ],
   "source": [
    "test.info()"
   ]
  },
  {
   "cell_type": "code",
   "execution_count": 24,
   "id": "3cea82ce",
   "metadata": {
    "execution": {
     "iopub.execute_input": "2023-12-31T06:48:05.981706Z",
     "iopub.status.busy": "2023-12-31T06:48:05.980814Z",
     "iopub.status.idle": "2023-12-31T06:48:05.986149Z",
     "shell.execute_reply": "2023-12-31T06:48:05.985526Z"
    },
    "papermill": {
     "duration": 0.017062,
     "end_time": "2023-12-31T06:48:05.987726",
     "exception": false,
     "start_time": "2023-12-31T06:48:05.970664",
     "status": "completed"
    },
    "tags": []
   },
   "outputs": [],
   "source": [
    "ids = test['PassengerId']\n",
    "test = test.drop(['PassengerId','Name','Ticket'], axis=1)"
   ]
  },
  {
   "cell_type": "code",
   "execution_count": 25,
   "id": "76a39339",
   "metadata": {
    "execution": {
     "iopub.execute_input": "2023-12-31T06:48:06.055759Z",
     "iopub.status.busy": "2023-12-31T06:48:06.055429Z",
     "iopub.status.idle": "2023-12-31T06:48:06.249314Z",
     "shell.execute_reply": "2023-12-31T06:48:06.248488Z"
    },
    "papermill": {
     "duration": 0.254188,
     "end_time": "2023-12-31T06:48:06.250962",
     "exception": false,
     "start_time": "2023-12-31T06:48:05.996774",
     "status": "completed"
    },
    "tags": []
   },
   "outputs": [
    {
     "data": {
      "image/png": "[encoded data removed]",
      "text/plain": [
       "<Figure size 800x400 with 1 Axes>"
      ]
     },
     "metadata": {},
     "output_type": "display_data"
    }
   ],
   "source": [
    "test = test.drop(['Cabin'], axis=1)\n",
    "test['Age'] = test['Age'].fillna(test['Age'].median())\n",
    "missing_values = test.isnull().sum()\n",
    "plt.figure(figsize=(8, 4))\n",
    "plt.bar(missing_values.index, missing_values.values)\n",
    "plt.xticks(rotation=45)\n",
    "plt.tight_layout()"
   ]
  },
  {
   "cell_type": "code",
   "execution_count": 26,
   "id": "46b32570",
   "metadata": {
    "execution": {
     "iopub.execute_input": "2023-12-31T06:48:06.272092Z",
     "iopub.status.busy": "2023-12-31T06:48:06.271235Z",
     "iopub.status.idle": "2023-12-31T06:48:06.280171Z",
     "shell.execute_reply": "2023-12-31T06:48:06.279617Z"
    },
    "papermill": {
     "duration": 0.021505,
     "end_time": "2023-12-31T06:48:06.282216",
     "exception": false,
     "start_time": "2023-12-31T06:48:06.260711",
     "status": "completed"
    },
    "tags": []
   },
   "outputs": [
    {
     "data": {
      "text/plain": [
       "Pclass      0\n",
       "Sex         0\n",
       "Age         0\n",
       "SibSp       0\n",
       "Parch       0\n",
       "Fare        0\n",
       "Embarked    0\n",
       "dtype: int64"
      ]
     },
     "execution_count": 26,
     "metadata": {},
     "output_type": "execute_result"
    }
   ],
   "source": [
    "test['Fare'] = test['Fare'].fillna(test['Fare'].median())\n",
    "missing_values = test.isnull().sum()\n",
    "missing_values"
   ]
  },
  {
   "cell_type": "code",
   "execution_count": 27,
   "id": "27749ec4",
   "metadata": {
    "execution": {
     "iopub.execute_input": "2023-12-31T06:48:06.303957Z",
     "iopub.status.busy": "2023-12-31T06:48:06.303288Z",
     "iopub.status.idle": "2023-12-31T06:48:06.310981Z",
     "shell.execute_reply": "2023-12-31T06:48:06.310173Z"
    },
    "papermill": {
     "duration": 0.020027,
     "end_time": "2023-12-31T06:48:06.312570",
     "exception": false,
     "start_time": "2023-12-31T06:48:06.292543",
     "status": "completed"
    },
    "tags": []
   },
   "outputs": [],
   "source": [
    "for i in test.columns:\n",
    "  if test[i].dtypes!=object:\n",
    "    continue\n",
    "  counter=0\n",
    "  for j in test[i].unique():\n",
    "    test[i] = test[i].replace({j:counter})\n",
    "    counter+=1"
   ]
  },
  {
   "cell_type": "code",
   "execution_count": 28,
   "id": "30301885",
   "metadata": {
    "execution": {
     "iopub.execute_input": "2023-12-31T06:48:06.333343Z",
     "iopub.status.busy": "2023-12-31T06:48:06.332830Z",
     "iopub.status.idle": "2023-12-31T06:48:06.341426Z",
     "shell.execute_reply": "2023-12-31T06:48:06.340530Z"
    },
    "papermill": {
     "duration": 0.020679,
     "end_time": "2023-12-31T06:48:06.342919",
     "exception": false,
     "start_time": "2023-12-31T06:48:06.322240",
     "status": "completed"
    },
    "tags": []
   },
   "outputs": [
    {
     "name": "stdout",
     "output_type": "stream",
     "text": [
      "<class 'pandas.core.frame.DataFrame'>\n",
      "RangeIndex: 418 entries, 0 to 417\n",
      "Data columns (total 7 columns):\n",
      " #   Column    Non-Null Count  Dtype  \n",
      "---  ------    --------------  -----  \n",
      " 0   Pclass    418 non-null    int64  \n",
      " 1   Sex       418 non-null    int64  \n",
      " 2   Age       418 non-null    float64\n",
      " 3   SibSp     418 non-null    int64  \n",
      " 4   Parch     418 non-null    int64  \n",
      " 5   Fare      418 non-null    float64\n",
      " 6   Embarked  418 non-null    int64  \n",
      "dtypes: float64(2), int64(5)\n",
      "memory usage: 23.0 KB\n"
     ]
    }
   ],
   "source": [
    "test.info()"
   ]
  },
  {
   "cell_type": "code",
   "execution_count": 29,
   "id": "68d90c0a",
   "metadata": {
    "execution": {
     "iopub.execute_input": "2023-12-31T06:48:06.364631Z",
     "iopub.status.busy": "2023-12-31T06:48:06.364190Z",
     "iopub.status.idle": "2023-12-31T06:48:06.409018Z",
     "shell.execute_reply": "2023-12-31T06:48:06.408052Z"
    },
    "papermill": {
     "duration": 0.057817,
     "end_time": "2023-12-31T06:48:06.411221",
     "exception": false,
     "start_time": "2023-12-31T06:48:06.353404",
     "status": "completed"
    },
    "tags": []
   },
   "outputs": [],
   "source": [
    "predictions = voting_model.predict(test)"
   ]
  },
  {
   "cell_type": "code",
   "execution_count": 30,
   "id": "ef54f1ef",
   "metadata": {
    "execution": {
     "iopub.execute_input": "2023-12-31T06:48:06.433193Z",
     "iopub.status.busy": "2023-12-31T06:48:06.432559Z",
     "iopub.status.idle": "2023-12-31T06:48:06.437402Z",
     "shell.execute_reply": "2023-12-31T06:48:06.436802Z"
    },
    "papermill": {
     "duration": 0.017476,
     "end_time": "2023-12-31T06:48:06.439043",
     "exception": false,
     "start_time": "2023-12-31T06:48:06.421567",
     "status": "completed"
    },
    "tags": []
   },
   "outputs": [],
   "source": [
    "submit = pd.DataFrame()"
   ]
  },
  {
   "cell_type": "code",
   "execution_count": 31,
   "id": "0fa33a9e",
   "metadata": {
    "execution": {
     "iopub.execute_input": "2023-12-31T06:48:06.460378Z",
     "iopub.status.busy": "2023-12-31T06:48:06.459790Z",
     "iopub.status.idle": "2023-12-31T06:48:06.464710Z",
     "shell.execute_reply": "2023-12-31T06:48:06.464145Z"
    },
    "papermill": {
     "duration": 0.017305,
     "end_time": "2023-12-31T06:48:06.466243",
     "exception": false,
     "start_time": "2023-12-31T06:48:06.448938",
     "status": "completed"
    },
    "tags": []
   },
   "outputs": [],
   "source": [
    "submit.insert(0, 'PassengerId', ids)\n",
    "submit.insert(1, 'Survived', predictions)"
   ]
  },
  {
   "cell_type": "code",
   "execution_count": 32,
   "id": "01f4d282",
   "metadata": {
    "execution": {
     "iopub.execute_input": "2023-12-31T06:48:06.487599Z",
     "iopub.status.busy": "2023-12-31T06:48:06.487120Z",
     "iopub.status.idle": "2023-12-31T06:48:06.494446Z",
     "shell.execute_reply": "2023-12-31T06:48:06.493684Z"
    },
    "papermill": {
     "duration": 0.01993,
     "end_time": "2023-12-31T06:48:06.496042",
     "exception": false,
     "start_time": "2023-12-31T06:48:06.476112",
     "status": "completed"
    },
    "tags": []
   },
   "outputs": [
    {
     "data": {
      "text/html": [
       "<div>\n",
       "<style scoped>\n",
       "    .dataframe tbody tr th:only-of-type {\n",
       "        vertical-align: middle;\n",
       "    }\n",
       "\n",
       "    .dataframe tbody tr th {\n",
       "        vertical-align: top;\n",
       "    }\n",
       "\n",
       "    .dataframe thead th {\n",
       "        text-align: right;\n",
       "    }\n",
       "</style>\n",
       "<table border=\"1\" class=\"dataframe\">\n",
       "  <thead>\n",
       "    <tr style=\"text-align: right;\">\n",
       "      <th></th>\n",
       "      <th>PassengerId</th>\n",
       "      <th>Survived</th>\n",
       "    </tr>\n",
       "  </thead>\n",
       "  <tbody>\n",
       "    <tr>\n",
       "      <th>0</th>\n",
       "      <td>892</td>\n",
       "      <td>0</td>\n",
       "    </tr>\n",
       "    <tr>\n",
       "      <th>1</th>\n",
       "      <td>893</td>\n",
       "      <td>1</td>\n",
       "    </tr>\n",
       "    <tr>\n",
       "      <th>2</th>\n",
       "      <td>894</td>\n",
       "      <td>1</td>\n",
       "    </tr>\n",
       "    <tr>\n",
       "      <th>3</th>\n",
       "      <td>895</td>\n",
       "      <td>0</td>\n",
       "    </tr>\n",
       "    <tr>\n",
       "      <th>4</th>\n",
       "      <td>896</td>\n",
       "      <td>1</td>\n",
       "    </tr>\n",
       "  </tbody>\n",
       "</table>\n",
       "</div>"
      ],
      "text/plain": [
       "   PassengerId  Survived\n",
       "0          892         0\n",
       "1          893         1\n",
       "2          894         1\n",
       "3          895         0\n",
       "4          896         1"
      ]
     },
     "execution_count": 32,
     "metadata": {},
     "output_type": "execute_result"
    }
   ],
   "source": [
    "submit.head()"
   ]
  },
  {
   "cell_type": "code",
   "execution_count": 33,
   "id": "a40cfc98",
   "metadata": {
    "execution": {
     "iopub.execute_input": "2023-12-31T06:48:06.517716Z",
     "iopub.status.busy": "2023-12-31T06:48:06.517199Z",
     "iopub.status.idle": "2023-12-31T06:48:06.523508Z",
     "shell.execute_reply": "2023-12-31T06:48:06.522907Z"
    },
    "papermill": {
     "duration": 0.018766,
     "end_time": "2023-12-31T06:48:06.525051",
     "exception": false,
     "start_time": "2023-12-31T06:48:06.506285",
     "status": "completed"
    },
    "tags": []
   },
   "outputs": [],
   "source": [
    "submit.to_csv('tita_predictions.csv', index=False)"
   ]
  },
  {
   "cell_type": "code",
   "execution_count": null,
   "id": "5d7793cb",
   "metadata": {
    "papermill": {
     "duration": 0.009619,
     "end_time": "2023-12-31T06:48:06.544720",
     "exception": false,
     "start_time": "2023-12-31T06:48:06.535101",
     "status": "completed"
    },
    "tags": []
   },
   "outputs": [],
   "source": []
  }
 ],
 "metadata": {
  "kaggle": {
   "accelerator": "none",
   "dataSources": [
    {
     "databundleVersionId": 26502,
     "sourceId": 3136,
     "sourceType": "competition"
    }
   ],
   "dockerImageVersionId": 30626,
   "isGpuEnabled": false,
   "isInternetEnabled": true,
   "language": "python",
   "sourceType": "notebook"
  },
  "kernelspec": {
   "display_name": "Python 3",
   "language": "python",
   "name": "python3"
  },
  "language_info": {
   "codemirror_mode": {
    "name": "ipython",
    "version": 3
   },
   "file_extension": ".py",
   "mimetype": "text/x-python",
   "name": "python",
   "nbconvert_exporter": "python",
   "pygments_lexer": "ipython3",
   "version": "3.10.12"
  },
  "papermill": {
   "default_parameters": {},
   "duration": 7.248559,
   "end_time": "2023-12-31T06:48:06.972644",
   "environment_variables": {},
   "exception": null,
   "input_path": "__notebook__.ipynb",
   "output_path": "__notebook__.ipynb",
   "parameters": {},
   "start_time": "2023-12-31T06:47:59.724085",
   "version": "2.4.0"
  }
 },
 "nbformat": 4,
 "nbformat_minor": 5
}
